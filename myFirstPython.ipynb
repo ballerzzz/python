{
  "nbformat": 4,
  "nbformat_minor": 0,
  "metadata": {
    "colab": {
      "provenance": [],
      "authorship_tag": "ABX9TyPVg+SAi+uluhN2IIklCfyE",
      "include_colab_link": true
    },
    "kernelspec": {
      "name": "python3",
      "display_name": "Python 3"
    },
    "language_info": {
      "name": "python"
    }
  },
  "cells": [
    {
      "cell_type": "markdown",
      "metadata": {
        "id": "view-in-github",
        "colab_type": "text"
      },
      "source": [
        "<a href=\"https://colab.research.google.com/github/ballerzzz/python/blob/main/myFirstPython.ipynb\" target=\"_parent\"><img src=\"https://colab.research.google.com/assets/colab-badge.svg\" alt=\"Open In Colab\"/></a>"
      ]
    },
    {
      "cell_type": "markdown",
      "source": [
        "2023학년도 응용프로그래밍 화면구현  \n",
        "파이썬 기초 "
      ],
      "metadata": {
        "id": "4A4qLvuRiFLO"
      }
    },
    {
      "cell_type": "code",
      "execution_count": 1,
      "metadata": {
        "colab": {
          "base_uri": "https://localhost:8080/"
        },
        "id": "gIeN7G2ph_Ny",
        "outputId": "33ec87cf-ed1c-47e8-af15-b8e4e5a11958"
      },
      "outputs": [
        {
          "output_type": "stream",
          "name": "stdout",
          "text": [
            "안산고등학교\n",
            "첨퓨터과 3학년 1반 17번 양윤우\n",
            "파이썬 기추 수업\n"
          ]
        }
      ],
      "source": [
        "print(\"안산고등학교\")\n",
        "print(\"첨퓨터과 3학년 1반 17번 양윤우\")\n",
        "print(\"파이썬 기초 수업\")"
      ]
    }
  ]
}