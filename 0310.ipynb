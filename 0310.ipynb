{
  "nbformat": 4,
  "nbformat_minor": 0,
  "metadata": {
    "colab": {
      "provenance": [],
      "toc_visible": true,
      "authorship_tag": "ABX9TyP8krV80lGKAAjATtRfpIWw",
      "include_colab_link": true
    },
    "kernelspec": {
      "name": "python3",
      "display_name": "Python 3"
    },
    "language_info": {
      "name": "python"
    }
  },
  "cells": [
    {
      "cell_type": "markdown",
      "metadata": {
        "id": "view-in-github",
        "colab_type": "text"
      },
      "source": [
        "<a href=\"https://colab.research.google.com/github/ballerzzz/python/blob/main/0310.ipynb\" target=\"_parent\"><img src=\"https://colab.research.google.com/assets/colab-badge.svg\" alt=\"Open In Colab\"/></a>"
      ]
    },
    {
      "cell_type": "code",
      "execution_count": null,
      "metadata": {
        "id": "i3nlwh2UE5Ok"
      },
      "outputs": [],
      "source": []
    },
    {
      "cell_type": "markdown",
      "source": [
        "# 제목 \n",
        "## 타이틀\n",
        "\n",
        "컴퓨터과 3학년 1반    \n",
        "양윤우 "
      ],
      "metadata": {
        "id": "pk0xCTAeFgYk"
      }
    },
    {
      "cell_type": "code",
      "source": [
        "print(\"오늘은 금요일\")\n",
        "print(\"나 혼자 심심해\")"
      ],
      "metadata": {
        "colab": {
          "base_uri": "https://localhost:8080/"
        },
        "id": "mOqaLNErFru7",
        "outputId": "e6e74d9b-9cb5-46a1-84b7-100a06aa3405"
      },
      "execution_count": 2,
      "outputs": [
        {
          "output_type": "stream",
          "name": "stdout",
          "text": [
            "오늘은 금요일\n",
            "나 혼자 심심해\n"
          ]
        }
      ]
    },
    {
      "cell_type": "code",
      "source": [
        "print(\"친구랑 게임 한판\")"
      ],
      "metadata": {
        "colab": {
          "base_uri": "https://localhost:8080/"
        },
        "id": "VuCZsNXZGAbE",
        "outputId": "937fa1ca-9f97-4e0b-c7e9-9ee042c24c79"
      },
      "execution_count": 3,
      "outputs": [
        {
          "output_type": "stream",
          "name": "stdout",
          "text": [
            "친구랑 게임 한판\n"
          ]
        }
      ]
    }
  ]
}