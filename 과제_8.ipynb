{
  "nbformat": 4,
  "nbformat_minor": 0,
  "metadata": {
    "colab": {
      "provenance": [],
      "authorship_tag": "ABX9TyOeGFSNTdoMuZyJHbfdA6u9",
      "include_colab_link": true
    },
    "kernelspec": {
      "name": "python3",
      "display_name": "Python 3"
    },
    "language_info": {
      "name": "python"
    }
  },
  "cells": [
    {
      "cell_type": "markdown",
      "metadata": {
        "id": "view-in-github",
        "colab_type": "text"
      },
      "source": [
        "<a href=\"https://colab.research.google.com/github/ballerzzz/python/blob/main/%EA%B3%BC%EC%A0%9C_8.ipynb\" target=\"_parent\"><img src=\"https://colab.research.google.com/assets/colab-badge.svg\" alt=\"Open In Colab\"/></a>"
      ]
    },
    {
      "cell_type": "code",
      "execution_count": 5,
      "metadata": {
        "colab": {
          "base_uri": "https://localhost:8080/"
        },
        "id": "6nZ0Zk7KX5gl",
        "outputId": "cb359eda-d768-4040-b17a-95f6c103c08e"
      },
      "outputs": [
        {
          "output_type": "stream",
          "name": "stdout",
          "text": [
            "35\n",
            "41\n",
            "1\n",
            "11\n",
            "42\n",
            "45\n"
          ]
        }
      ],
      "source": [
        "import random\n",
        "lottoNumber = [0,0,0,0,0,0]\n",
        "\n",
        "for i in range(6):\n",
        "  lottoNumber[i] = random.randint(1,45)\n",
        "for i in range(6):\n",
        "    print(lottoNumber[i])"
      ]
    },
    {
      "cell_type": "code",
      "source": [
        "import random\n",
        "\n",
        "foods = random.choice([\"떡복기\", \"순대\", \"소고기\", \"쿠키\",\"라면\"])\n",
        "result=random.choice(foods)\n",
        "print(result)"
      ],
      "metadata": {
        "colab": {
          "base_uri": "https://localhost:8080/"
        },
        "id": "ebM02APscTTu",
        "outputId": "2560afb6-130e-4dca-b160-8a33ca4c2c4b"
      },
      "execution_count": 20,
      "outputs": [
        {
          "output_type": "stream",
          "name": "stdout",
          "text": [
            "쿠\n"
          ]
        }
      ]
    },
    {
      "cell_type": "code",
      "source": [
        "import random\n",
        "computer = \"\"\n",
        "\n",
        "\n",
        "computer = random.choice ([\"가위\",\"바위\",\"보\"])\n",
        "n = input(\"나의 가위/바위/보 ==>\")\n",
        "print(computer)\n",
        "if n == computer:\n",
        "  print(\"비김\")\n",
        "elif n == \"가위\" and computer == \"바위\":\n",
        "  print(\"짐\")\n",
        "elif n == \"바위\" and computer == \"보\":\n",
        "  print(\"짐\") \n",
        "elif n == \"보\" and computer == \"가위\":\n",
        "  print(\"짐\")\n",
        "else:\n",
        "  print(\"이김\")\n",
        "\n"
      ],
      "metadata": {
        "colab": {
          "base_uri": "https://localhost:8080/"
        },
        "id": "sHKW7zg0cwBc",
        "outputId": "f737f131-df55-4c04-abf6-b32514be0485"
      },
      "execution_count": 19,
      "outputs": [
        {
          "output_type": "stream",
          "name": "stdout",
          "text": [
            "나의 가위/바위/보 ==>보\n",
            "보\n",
            "비김\n"
          ]
        }
      ]
    }
  ]
}