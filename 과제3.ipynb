{
  "nbformat": 4,
  "nbformat_minor": 0,
  "metadata": {
    "colab": {
      "provenance": [],
      "authorship_tag": "ABX9TyMXDllTlAcUeiPEZVFsjepV",
      "include_colab_link": true
    },
    "kernelspec": {
      "name": "python3",
      "display_name": "Python 3"
    },
    "language_info": {
      "name": "python"
    }
  },
  "cells": [
    {
      "cell_type": "markdown",
      "metadata": {
        "id": "view-in-github",
        "colab_type": "text"
      },
      "source": [
        "<a href=\"https://colab.research.google.com/github/ballerzzz/python/blob/main/%EA%B3%BC%EC%A0%9C3.ipynb\" target=\"_parent\"><img src=\"https://colab.research.google.com/assets/colab-badge.svg\" alt=\"Open In Colab\"/></a>"
      ]
    },
    {
      "cell_type": "code",
      "execution_count": 25,
      "metadata": {
        "colab": {
          "base_uri": "https://localhost:8080/"
        },
        "id": "mwK-OaCbGT46",
        "outputId": "44b2a72d-c263-4b96-dcb0-247eefd8171b"
      },
      "outputs": [
        {
          "output_type": "stream",
          "name": "stdout",
          "text": [
            "파운드 (lb)를 입력하세요 :12\n",
            "12.0 파운드(lb)는 5.4 킬로그램(kb)입니다\n",
            "킬로그램을 입력23\n",
            "23.0 킬로그램(kg)는 50.7 파운드(lb) 입니다\n"
          ]
        }
      ],
      "source": [
        "n = float(input(\"파운드 (lb)를 입력하세요 :\"))\n",
        "print(n,\"파운드(lb)는\",round(n*0.45392,1), \"킬로그램(kb)입니다\")\n",
        "pound = float(input(\"킬로그램을 입력\"))\n",
        "print(pound,\"킬로그램(kg)는\",round(pound*2.20463,1), \"파운드(lb) 입니다\")\n"
      ]
    }
  ]
}