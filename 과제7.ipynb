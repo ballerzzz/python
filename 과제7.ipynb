{
  "nbformat": 4,
  "nbformat_minor": 0,
  "metadata": {
    "colab": {
      "provenance": [],
      "authorship_tag": "ABX9TyOxhoiYjawpJU3kaMcTa+/o",
      "include_colab_link": true
    },
    "kernelspec": {
      "name": "python3",
      "display_name": "Python 3"
    },
    "language_info": {
      "name": "python"
    }
  },
  "cells": [
    {
      "cell_type": "markdown",
      "metadata": {
        "id": "view-in-github",
        "colab_type": "text"
      },
      "source": [
        "<a href=\"https://colab.research.google.com/github/ballerzzz/python/blob/main/%EA%B3%BC%EC%A0%9C7.ipynb\" target=\"_parent\"><img src=\"https://colab.research.google.com/assets/colab-badge.svg\" alt=\"Open In Colab\"/></a>"
      ]
    },
    {
      "cell_type": "code",
      "execution_count": 1,
      "metadata": {
        "colab": {
          "base_uri": "https://localhost:8080/"
        },
        "id": "0vid5hllW-Cz",
        "outputId": "d106f458-b03e-4641-d810-3ef7c7af0653"
      },
      "outputs": [
        {
          "output_type": "stream",
          "name": "stdout",
          "text": [
            "100q 보다 큽니다\n",
            "프로그램\n",
            "끝\n"
          ]
        }
      ],
      "source": [
        "num = 200\n",
        "if num > 100:\n",
        "  print(\"100q 보다 큽니다\")\n",
        "  print(\"프로그램\")\n",
        "  print(\"끝\")\n",
        "\n",
        "  "
      ]
    },
    {
      "cell_type": "code",
      "source": [
        "num = int(input(\"정수를 입력 : \"))\n",
        "\n",
        "if num%2 == 0:\n",
        "  print(\"짝수\")\n",
        "else:\n",
        "  print(\"홀수\")"
      ],
      "metadata": {
        "colab": {
          "base_uri": "https://localhost:8080/"
        },
        "id": "CKq5p5yvX13H",
        "outputId": "bc4c03f8-2ff3-45a9-bbc4-bca8b998670a"
      },
      "execution_count": 2,
      "outputs": [
        {
          "output_type": "stream",
          "name": "stdout",
          "text": [
            "정수를 입력 : 12\n",
            "짝수\n"
          ]
        }
      ]
    },
    {
      "cell_type": "code",
      "source": [
        "n = int(input(\"숫자를 입력 ==> \"))\n",
        "\n",
        "if n > 100:\n",
        "  if n < 1000:\n",
        "    print(\"100에서 1000 사이다\") \n",
        "  else:\n",
        "    print(\"1000 보다 크다\")\n",
        "else:\n",
        "  print(\"100보다 작다\")"
      ],
      "metadata": {
        "colab": {
          "base_uri": "https://localhost:8080/"
        },
        "id": "KwujT21sYQV3",
        "outputId": "34fd6d9a-594e-43d7-f9c8-1fcdf3fac7bf"
      },
      "execution_count": 6,
      "outputs": [
        {
          "output_type": "stream",
          "name": "stdout",
          "text": [
            "숫자를 입력 ==> 1100\n",
            "1000 보다 크다\n"
          ]
        }
      ]
    },
    {
      "cell_type": "code",
      "source": [
        "n = int(input(\"점수를 입력 ==> \"))\n",
        "\n",
        "if n >= 90:\n",
        "  print(\"A 학점입니다\")\n",
        "elif n >= 80:\n",
        "  print(\"B 학점입니다\")\n",
        "elif n >= 70:\n",
        "  print(\"C 학점입니다\")\n",
        "elif n >= 60:\n",
        "  print(\"D 학점입니다\")\n",
        "else: \n",
        "  print(\"F 학점입니다\")\n",
        "\n"
      ],
      "metadata": {
        "colab": {
          "base_uri": "https://localhost:8080/"
        },
        "id": "uPpFBGZDZte_",
        "outputId": "2a12d4ca-d955-46fb-f538-dfef1fbf0aec"
      },
      "execution_count": 8,
      "outputs": [
        {
          "output_type": "stream",
          "name": "stdout",
          "text": [
            "점수를 입력 ==> 95\n",
            "A 학점입니다\n"
          ]
        }
      ]
    },
    {
      "cell_type": "code",
      "source": [
        "n = int(input(\"점수를 입력 ==>\"))\n",
        "\n",
        "\n",
        "if n >= 90:\n",
        "  print(\"A 학점입니다\")\n",
        "else:\n",
        "  if n>= 80:\n",
        "    print(\"B 학점입니다\")\n",
        "  else: \n",
        "    if n >= 70:\n",
        "      print(\"C 학점입니다\")\n",
        "    else:\n",
        "      if n>=60:\n",
        "        print(\"D 학점입니다\")\n",
        "      else:\n",
        "        print(\"F 학점입니다\")\n",
        "\n"
      ],
      "metadata": {
        "colab": {
          "base_uri": "https://localhost:8080/"
        },
        "id": "-jNCumlDbfKQ",
        "outputId": "c99efde3-0f02-49a6-a619-80455f501164"
      },
      "execution_count": 12,
      "outputs": [
        {
          "output_type": "stream",
          "name": "stdout",
          "text": [
            "점수를 입력 ==>96\n",
            "A 학점입니다\n"
          ]
        }
      ]
    },
    {
      "cell_type": "code",
      "source": [],
      "metadata": {
        "id": "5TeYGXpHdg4f"
      },
      "execution_count": null,
      "outputs": []
    }
  ]
}