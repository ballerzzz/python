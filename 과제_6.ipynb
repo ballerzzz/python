{
  "nbformat": 4,
  "nbformat_minor": 0,
  "metadata": {
    "colab": {
      "provenance": [],
      "authorship_tag": "ABX9TyOA3/+03smPD/ExECWJLzKj",
      "include_colab_link": true
    },
    "kernelspec": {
      "name": "python3",
      "display_name": "Python 3"
    },
    "language_info": {
      "name": "python"
    }
  },
  "cells": [
    {
      "cell_type": "markdown",
      "metadata": {
        "id": "view-in-github",
        "colab_type": "text"
      },
      "source": [
        "<a href=\"https://colab.research.google.com/github/ballerzzz/python/blob/main/%EA%B3%BC%EC%A0%9C_6.ipynb\" target=\"_parent\"><img src=\"https://colab.research.google.com/assets/colab-badge.svg\" alt=\"Open In Colab\"/></a>"
      ]
    },
    {
      "cell_type": "code",
      "execution_count": 9,
      "metadata": {
        "colab": {
          "base_uri": "https://localhost:8080/"
        },
        "id": "ymu-jzoHMfS5",
        "outputId": "1b537ad5-e8c8-4da8-9320-0f80aa9e4abd"
      },
      "outputs": [
        {
          "output_type": "stream",
          "name": "stdout",
          "text": [
            "원본 문자열 :  ['트', '와', '이', '스']\n",
            "반대 문자열 ==> 스이와트\n"
          ]
        }
      ],
      "source": [
        "singer = [\"트\",\"와\",\"이\",\"스\"]\n",
        "\n",
        "print(\"원본 문자열 : \", singer)\n",
        "\n",
        "s = singer[3] + singer[2] + singer[1] + singer[0]\n",
        "\n",
        "print(\"반대 문자열 ==>\",s)\n"
      ]
    },
    {
      "cell_type": "code",
      "source": [
        "n = [\"P\",\"y\",\"t\",\"h\",\"o\",\"n\"]\n",
        "for i in range(0,len(n)):\n",
        "  if n[i] >= \"A\" and n[i] <= \"Z\":\n",
        "      s = s + n[i].lower()\n",
        "  else:\n",
        "      s = s + n[i].upper()\n",
        "  \n",
        "print(s)"
      ],
      "metadata": {
        "colab": {
          "base_uri": "https://localhost:8080/"
        },
        "id": "zWDe3j0uO6_o",
        "outputId": "52a2fc7e-6524-4b65-db16-dba9ab86731d"
      },
      "execution_count": 26,
      "outputs": [
        {
          "output_type": "stream",
          "name": "stdout",
          "text": [
            "PythonpYTHON\n"
          ]
        }
      ]
    },
    {
      "cell_type": "code",
      "source": [
        "s = \"Python\"\n",
        "print(s[0].lower() + s[1:6].upper())"
      ],
      "metadata": {
        "colab": {
          "base_uri": "https://localhost:8080/"
        },
        "id": "haDl36zjRldA",
        "outputId": "1176ca62-3491-4619-de5a-b05b24a9c7bf"
      },
      "execution_count": 19,
      "outputs": [
        {
          "output_type": "stream",
          "name": "stdout",
          "text": [
            "pYTHON\n"
          ]
        }
      ]
    },
    {
      "cell_type": "code",
      "source": [
        "singer = \"트와이스\"\n",
        "\n",
        "print(singer[::-1])"
      ],
      "metadata": {
        "colab": {
          "base_uri": "https://localhost:8080/"
        },
        "id": "aRvA8YgLP2Gv",
        "outputId": "a0e7ae2f-2a49-45bf-acb1-556b453888eb"
      },
      "execution_count": 11,
      "outputs": [
        {
          "output_type": "stream",
          "name": "stdout",
          "text": [
            "스이와트\n"
          ]
        }
      ]
    }
  ]
}