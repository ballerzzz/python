{
  "nbformat": 4,
  "nbformat_minor": 0,
  "metadata": {
    "colab": {
      "provenance": [],
      "authorship_tag": "ABX9TyOsX3PLnyq/VqT4qDe1zG7d",
      "include_colab_link": true
    },
    "kernelspec": {
      "name": "python3",
      "display_name": "Python 3"
    },
    "language_info": {
      "name": "python"
    }
  },
  "cells": [
    {
      "cell_type": "markdown",
      "metadata": {
        "id": "view-in-github",
        "colab_type": "text"
      },
      "source": [
        "<a href=\"https://colab.research.google.com/github/ballerzzz/python/blob/main/%EA%B3%BC%EC%A0%9C1.ipynb\" target=\"_parent\"><img src=\"https://colab.research.google.com/assets/colab-badge.svg\" alt=\"Open In Colab\"/></a>"
      ]
    },
    {
      "cell_type": "code",
      "source": [
        "print(\"## 택배를 보내기 위한 정보를 입력하세요. ##\")\n",
        "recieve_name = input(\"받는 사람 :\")\n",
        "addy = input(\"주소 :\")\n",
        "w = int(input(\"무게(g) :\"))\n",
        "print(\"** 받는 사람 ==>\", recieve_name)\n",
        "print(\"** 주소 ==>\", addy)\n",
        "print(\"** 배송비 ==>\",w*5,\"원\")"
      ],
      "metadata": {
        "colab": {
          "base_uri": "https://localhost:8080/"
        },
        "id": "pNJsh1JzVETl",
        "outputId": "887da413-b1f4-465a-ea97-63a690e10bb8"
      },
      "execution_count": 3,
      "outputs": [
        {
          "output_type": "stream",
          "name": "stdout",
          "text": [
            "## 택배를 보내기 위한 정보를 입력하세요. ##\n",
            "받는 사람 :asdf\n",
            "주소 :asfd\n",
            "무게(g) :5\n",
            "** 받는 사람 ==> asdf\n",
            "** 주소 ==> asfd\n",
            "** 배송비 ==> 25 원\n"
          ]
        }
      ]
    }
  ]
}