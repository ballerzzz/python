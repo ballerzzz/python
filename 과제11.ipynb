{
  "nbformat": 4,
  "nbformat_minor": 0,
  "metadata": {
    "colab": {
      "provenance": [],
      "authorship_tag": "ABX9TyOCz+r+R3AVY0uz/LO9i5BJ",
      "include_colab_link": true
    },
    "kernelspec": {
      "name": "python3",
      "display_name": "Python 3"
    },
    "language_info": {
      "name": "python"
    }
  },
  "cells": [
    {
      "cell_type": "markdown",
      "metadata": {
        "id": "view-in-github",
        "colab_type": "text"
      },
      "source": [
        "<a href=\"https://colab.research.google.com/github/ballerzzz/python/blob/main/%EA%B3%BC%EC%A0%9C11.ipynb\" target=\"_parent\"><img src=\"https://colab.research.google.com/assets/colab-badge.svg\" alt=\"Open In Colab\"/></a>"
      ]
    },
    {
      "cell_type": "code",
      "execution_count": 2,
      "metadata": {
        "colab": {
          "base_uri": "https://localhost:8080/"
        },
        "id": "f5lGEb8NeMg8",
        "outputId": "6c3728ce-b9b8-49b4-ae4d-ee84b113df70"
      },
      "outputs": [
        {
          "output_type": "stream",
          "name": "stdout",
          "text": [
            "숫자 :4\n",
            "숫자 :6\n",
            "숫자 :1\n",
            "숫자 :2\n",
            "숫자 :3\n",
            "16\n"
          ]
        }
      ],
      "source": [
        "numList= [0, 0, 0, 0, 0]\n",
        "\n",
        "numList[0] = input(\"숫자 :\")\n",
        "numList[1] = input(\"숫자 :\")\n",
        "numList[2] = input(\"숫자 :\")\n",
        "numList[3] = input(\"숫자 :\")\n",
        "numList[4] = input(\"숫자 :\")\n",
        "\n",
        "sum = int(numList[0]) + int(numList[1]) + int(numList[2]) + int(numList[3])+ int(numList[4])\n",
        "\n",
        "print(sum)"
      ]
    },
    {
      "cell_type": "code",
      "source": [
        "myList = []\n",
        "myList.append(\"안산\")\n",
        "myList.append(\"공고\")\n",
        "myList.append(\"3100\")\n",
        "myList.append(\"777\")\n",
        "print(myList)"
      ],
      "metadata": {
        "colab": {
          "base_uri": "https://localhost:8080/"
        },
        "id": "qSLKFHjbr8B4",
        "outputId": "ed085ff4-b295-43da-a5f5-279e86289a03"
      },
      "execution_count": 3,
      "outputs": [
        {
          "output_type": "stream",
          "name": "stdout",
          "text": [
            "['안산', '공고', '3100', '777']\n"
          ]
        }
      ]
    },
    {
      "cell_type": "code",
      "source": [
        "import random\n",
        "\n",
        "w = [\"삶이 있는 한 희망은 있다\",\" 산다는것 그것은 치열한 전투이다\",\"하루에 3시간을 걸으면 7년 후에 지구를 한바퀴 돌 수 있다\",\"언제나 현재에 집중할수 있다면 행복할것이다\",\"진정으로 웃으려면 고통을 참아야하며 , 나아가 고통을 즐길 줄 알아야 해\"]\n",
        "\n",
        "print(\"오늘의 명언은 ==>\",w[random.randint(0,len(w)-1)])"
      ],
      "metadata": {
        "colab": {
          "base_uri": "https://localhost:8080/"
        },
        "id": "O6NGxE26tNwg",
        "outputId": "804b2494-a3bd-4268-8d01-75f698ff741e"
      },
      "execution_count": 12,
      "outputs": [
        {
          "output_type": "stream",
          "name": "stdout",
          "text": [
            "오늘의 명언은 ==> 진정으로 웃으려면 고통을 참아야하며 , 나아가 고통을 즐길 줄 알아야 해\n"
          ]
        }
      ]
    },
    {
      "cell_type": "code",
      "source": [
        "import datetime\n",
        "\n",
        "now = datetime.date.today()\n",
        "Birthday = datetime.date(2005,11,24)\n",
        "age = now-Birthday\n",
        "print(age.days/365)\n"
      ],
      "metadata": {
        "colab": {
          "base_uri": "https://localhost:8080/"
        },
        "id": "oddKOeDuyzKJ",
        "outputId": "b2a99abe-11f8-4158-816f-1dc2b974f69d"
      },
      "execution_count": 14,
      "outputs": [
        {
          "output_type": "stream",
          "name": "stdout",
          "text": [
            "17.386301369863013\n"
          ]
        }
      ]
    }
  ]
}