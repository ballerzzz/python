{
  "nbformat": 4,
  "nbformat_minor": 0,
  "metadata": {
    "colab": {
      "provenance": [],
      "authorship_tag": "ABX9TyPPkjk5uMDn35SxkTCpqBnt",
      "include_colab_link": true
    },
    "kernelspec": {
      "name": "python3",
      "display_name": "Python 3"
    },
    "language_info": {
      "name": "python"
    }
  },
  "cells": [
    {
      "cell_type": "markdown",
      "metadata": {
        "id": "view-in-github",
        "colab_type": "text"
      },
      "source": [
        "<a href=\"https://colab.research.google.com/github/ballerzzz/python/blob/main/%EA%B3%BC%EC%A0%9C9.ipynb\" target=\"_parent\"><img src=\"https://colab.research.google.com/assets/colab-badge.svg\" alt=\"Open In Colab\"/></a>"
      ]
    },
    {
      "cell_type": "code",
      "execution_count": 3,
      "metadata": {
        "colab": {
          "base_uri": "https://localhost:8080/"
        },
        "id": "raRDFvcPccLy",
        "outputId": "baee6eff-3775-409e-a422-0fbc85e51dad"
      },
      "outputs": [
        {
          "output_type": "stream",
          "name": "stdout",
          "text": [
            "0 컴퓨터과 3학년 1반\n",
            "1 컴퓨터과 3학년 1반\n",
            "2 컴퓨터과 3학년 1반\n"
          ]
        }
      ],
      "source": [
        "for i in range(3):\n",
        "  print(i,\"컴퓨터과 3학년 1반\")\n"
      ]
    },
    {
      "cell_type": "code",
      "source": [
        "for i in [0, 1, 2, 3, 4] :\n",
        "  print(i, \"컴퓨터과 3학년 1반\")"
      ],
      "metadata": {
        "colab": {
          "base_uri": "https://localhost:8080/"
        },
        "id": "XG1qAuNRdXpO",
        "outputId": "b1730cdc-4565-4177-b20f-b1a72d8d1131"
      },
      "execution_count": 4,
      "outputs": [
        {
          "output_type": "stream",
          "name": "stdout",
          "text": [
            "0 컴퓨터과 3학년 1반\n",
            "1 컴퓨터과 3학년 1반\n",
            "2 컴퓨터과 3학년 1반\n",
            "3 컴퓨터과 3학년 1반\n",
            "4 컴퓨터과 3학년 1반\n"
          ]
        }
      ]
    },
    {
      "cell_type": "code",
      "source": [
        "for i in [\"봄\", \"여름\", \"가을\", \"겨울\"]:\n",
        "  print(i, \"컴퓨터과 3학년 1반\")"
      ],
      "metadata": {
        "colab": {
          "base_uri": "https://localhost:8080/"
        },
        "id": "JwSoggPPdkLs",
        "outputId": "cf0a6a7d-1673-4b7e-9669-9933f57e94f1"
      },
      "execution_count": 6,
      "outputs": [
        {
          "output_type": "stream",
          "name": "stdout",
          "text": [
            "봄 컴퓨터과 3학년 1반\n",
            "여름 컴퓨터과 3학년 1반\n",
            "가을 컴퓨터과 3학년 1반\n",
            "겨울 컴퓨터과 3학년 1반\n"
          ]
        }
      ]
    },
    {
      "cell_type": "code",
      "source": [
        "for i in range(1, 11, 1):\n",
        "  print(i, \"컴퓨터과\")"
      ],
      "metadata": {
        "id": "ueDlxC_nd7lN"
      },
      "execution_count": null,
      "outputs": []
    },
    {
      "cell_type": "code",
      "source": [
        "for i in range(2, 6, 1) :\n",
        "  print(i, end=\" \")\n",
        "  "
      ],
      "metadata": {
        "colab": {
          "base_uri": "https://localhost:8080/"
        },
        "id": "Ngjnq-sdeml1",
        "outputId": "592b88c9-8068-463d-932e-75c64162f3fb"
      },
      "execution_count": 7,
      "outputs": [
        {
          "output_type": "stream",
          "name": "stdout",
          "text": [
            "2 3 4 5 "
          ]
        }
      ]
    },
    {
      "cell_type": "code",
      "source": [
        "n = 1\n",
        "for i in range(1,6,1):\n",
        "  n = n * i\n",
        "\n",
        "print(\"A B C D E 학생들을 순서대로 세우는 경우의 수\",n)"
      ],
      "metadata": {
        "colab": {
          "base_uri": "https://localhost:8080/"
        },
        "id": "955EnZUkfOg1",
        "outputId": "732881e6-4175-4c19-e5cc-39851d35ca0c"
      },
      "execution_count": 11,
      "outputs": [
        {
          "output_type": "stream",
          "name": "stdout",
          "text": [
            "A B C D E 학생들을 순서대로 세우는 경우의 수 120\n"
          ]
        }
      ]
    },
    {
      "cell_type": "code",
      "source": [
        "sum = 0\n",
        "\n",
        "for i in range(1, 11, 1):\n",
        "  sum = sum + i\n",
        "\n",
        "print(sum)\n"
      ],
      "metadata": {
        "colab": {
          "base_uri": "https://localhost:8080/"
        },
        "id": "_Wl0l5wxhd0X",
        "outputId": "0d983be9-eb86-4766-e595-098001e8a1da"
      },
      "execution_count": 14,
      "outputs": [
        {
          "output_type": "stream",
          "name": "stdout",
          "text": [
            "55\n"
          ]
        }
      ]
    },
    {
      "cell_type": "code",
      "source": [
        "sum = 0\n",
        "for i in range(1001,2001,2):\n",
        "  sum = sum + i\n",
        "print(sum)"
      ],
      "metadata": {
        "colab": {
          "base_uri": "https://localhost:8080/"
        },
        "id": "oHyJWsjuiCY1",
        "outputId": "c60db481-115f-4f56-eeae-6e5c72344fe8"
      },
      "execution_count": 22,
      "outputs": [
        {
          "output_type": "stream",
          "name": "stdout",
          "text": [
            "750000\n"
          ]
        }
      ]
    },
    {
      "cell_type": "code",
      "source": [
        "sum = 0\n",
        "\n",
        "for i in range(1000, 2001, 1):\n",
        "  if i%2 == 1:\n",
        "    sum = sum + i\n",
        "print(sum)\n",
        "\n"
      ],
      "metadata": {
        "colab": {
          "base_uri": "https://localhost:8080/"
        },
        "id": "XBEaHA35ifoV",
        "outputId": "bf8ae7ed-ea0c-42dc-d2e1-b54e9a83dbc2"
      },
      "execution_count": 23,
      "outputs": [
        {
          "output_type": "stream",
          "name": "stdout",
          "text": [
            "750000\n"
          ]
        }
      ]
    },
    {
      "cell_type": "code",
      "source": [
        "sum, i = 0,0\n",
        "\n",
        "for i in range(500,1001,2):\n",
        "  sum = sum + i\n",
        "print(\"500에서 1000까지의 합\",sum)\n"
      ],
      "metadata": {
        "colab": {
          "base_uri": "https://localhost:8080/"
        },
        "id": "4ergRiq7jUl-",
        "outputId": "07f87449-820d-4bf5-9886-ef823b3da5cb"
      },
      "execution_count": 28,
      "outputs": [
        {
          "output_type": "stream",
          "name": "stdout",
          "text": [
            "500에서 1000까지의 합 188250\n"
          ]
        }
      ]
    },
    {
      "cell_type": "code",
      "source": [
        "for i in range (3) :\n",
        "  for k in range(2) :\n",
        "    print(\"난생처음은 쉽습니다. ^^(i값:\",i,\",k값:\",k,\")\")"
      ],
      "metadata": {
        "colab": {
          "base_uri": "https://localhost:8080/"
        },
        "id": "2ZjbIDVvkQDT",
        "outputId": "8f0553f8-8f4e-4a17-92c7-87a3fca3eb03"
      },
      "execution_count": 29,
      "outputs": [
        {
          "output_type": "stream",
          "name": "stdout",
          "text": [
            "난생처음은 쉽습니다. ^^(i값: 0 ,k값: 0 )\n",
            "난생처음은 쉽습니다. ^^(i값: 0 ,k값: 1 )\n",
            "난생처음은 쉽습니다. ^^(i값: 1 ,k값: 0 )\n",
            "난생처음은 쉽습니다. ^^(i값: 1 ,k값: 1 )\n",
            "난생처음은 쉽습니다. ^^(i값: 2 ,k값: 0 )\n",
            "난생처음은 쉽습니다. ^^(i값: 2 ,k값: 1 )\n"
          ]
        }
      ]
    },
    {
      "cell_type": "code",
      "source": [
        "for i in range(1,10,1):\n",
        "  for j in range(2,10,1):\n",
        "    print(j,\"*\",i,\"=\",j*i,end=\" \")\n",
        "  print(\"\\n\")"
      ],
      "metadata": {
        "colab": {
          "base_uri": "https://localhost:8080/"
        },
        "id": "wilVTSFCqAwm",
        "outputId": "2fe6c744-d028-4088-ffae-e17030019632"
      },
      "execution_count": 37,
      "outputs": [
        {
          "output_type": "stream",
          "name": "stdout",
          "text": [
            "2 * 1 = 2 3 * 1 = 3 4 * 1 = 4 5 * 1 = 5 6 * 1 = 6 7 * 1 = 7 8 * 1 = 8 9 * 1 = 9 \n",
            "\n",
            "2 * 2 = 4 3 * 2 = 6 4 * 2 = 8 5 * 2 = 10 6 * 2 = 12 7 * 2 = 14 8 * 2 = 16 9 * 2 = 18 \n",
            "\n",
            "2 * 3 = 6 3 * 3 = 9 4 * 3 = 12 5 * 3 = 15 6 * 3 = 18 7 * 3 = 21 8 * 3 = 24 9 * 3 = 27 \n",
            "\n",
            "2 * 4 = 8 3 * 4 = 12 4 * 4 = 16 5 * 4 = 20 6 * 4 = 24 7 * 4 = 28 8 * 4 = 32 9 * 4 = 36 \n",
            "\n",
            "2 * 5 = 10 3 * 5 = 15 4 * 5 = 20 5 * 5 = 25 6 * 5 = 30 7 * 5 = 35 8 * 5 = 40 9 * 5 = 45 \n",
            "\n",
            "2 * 6 = 12 3 * 6 = 18 4 * 6 = 24 5 * 6 = 30 6 * 6 = 36 7 * 6 = 42 8 * 6 = 48 9 * 6 = 54 \n",
            "\n",
            "2 * 7 = 14 3 * 7 = 21 4 * 7 = 28 5 * 7 = 35 6 * 7 = 42 7 * 7 = 49 8 * 7 = 56 9 * 7 = 63 \n",
            "\n",
            "2 * 8 = 16 3 * 8 = 24 4 * 8 = 32 5 * 8 = 40 6 * 8 = 48 7 * 8 = 56 8 * 8 = 64 9 * 8 = 72 \n",
            "\n",
            "2 * 9 = 18 3 * 9 = 27 4 * 9 = 36 5 * 9 = 45 6 * 9 = 54 7 * 9 = 63 8 * 9 = 72 9 * 9 = 81 \n",
            "\n"
          ]
        }
      ]
    },
    {
      "cell_type": "code",
      "source": [
        "i = 0\n",
        "while(i<3):\n",
        "  print(\"컴퓨터과 3학년 1반\")\n",
        "  i = i + 1\n",
        "  "
      ],
      "metadata": {
        "colab": {
          "base_uri": "https://localhost:8080/"
        },
        "id": "7B8w0prPtbrn",
        "outputId": "df9dbd84-23cc-40ea-ad46-82d8eb98c3ab"
      },
      "execution_count": 38,
      "outputs": [
        {
          "output_type": "stream",
          "name": "stdout",
          "text": [
            "컴퓨터과 3학년 1반\n",
            "컴퓨터과 3학년 1반\n",
            "컴퓨터과 3학년 1반\n"
          ]
        }
      ]
    },
    {
      "cell_type": "code",
      "source": [
        "i = 0\n",
        "while True :\n",
        "  print(\"ㅎ\",end=\" \")\n",
        "  i = i + 1\n",
        "  if i == 10 :\n",
        "    break"
      ],
      "metadata": {
        "colab": {
          "base_uri": "https://localhost:8080/"
        },
        "id": "HUWLX1hNuPad",
        "outputId": "140e43bd-4329-412e-a818-61fb8cca4c65"
      },
      "execution_count": 41,
      "outputs": [
        {
          "output_type": "stream",
          "name": "stdout",
          "text": [
            "ㅎ ㅎ ㅎ ㅎ ㅎ ㅎ ㅎ ㅎ ㅎ ㅎ "
          ]
        }
      ]
    },
    {
      "cell_type": "code",
      "source": [
        "def menu() :\n",
        "  print(\"#############\")\n",
        "  print(\"# 1.덧셈    #\")\n",
        "  print(\"# 2.뺄셈    #\")\n",
        "  print(\"# 3.나눗셈  #\")\n",
        "  print(\"# 4.곱셈    #\")\n",
        "  print(\"# 5.종료    #\")\n",
        "def add() :\n",
        "  num1 = float(input(\"숫자1을 입력 : \"))\n",
        "  num2 = float(input(\"숫자2을 입력 : \"))\n",
        "  sum = num1 + num2\n",
        "  return sum\n",
        "def minus() :\n",
        "  num1 = float(input(\"숫자1을 입력 : \"))\n",
        "  num2 = float(input(\"숫자2을 입력 : \"))\n",
        "  sum = num1 - num2\n",
        "  return sum\n",
        "def times() :\n",
        "  num1 = float(input(\"숫자1을 입력 : \"))\n",
        "  num2 = float(input(\"숫자2을 입력 : \"))\n",
        "  sum = num1 * num2\n",
        "  return sum\n",
        "def divide() :\n",
        "  num1 = float(input(\"숫자1을 입력 : \"))\n",
        "  num2 = float(input(\"숫자2을 입력 : \"))\n",
        "  sum = num1 / num2\n",
        "  return sum\n",
        "\n",
        "while True :\n",
        "  menu()\n",
        "  select = int(input(\"메뉴를 선택 : \"))\n",
        "  if select == 5 :\n",
        "    break\n",
        "  elif select == 1:\n",
        "    sum = add()\n",
        "    print(\"두수의 덧셈 결과: \", sum)\n",
        "  elif select == 2:\n",
        "    sum = minus()\n",
        "    print(\"두수의 뺼셈 결과: \", sum)\n",
        "  elif select == 3:\n",
        "    sum = divide()\n",
        "    print(\"두수의 나눗셈 결과: \", sum)\n",
        "  elif select == 4:\n",
        "    sum = times()\n",
        "    print(\"두수의 곱하기기 결과: \", sum)\n",
        "        \n",
        "\n",
        "\n",
        "  "
      ],
      "metadata": {
        "colab": {
          "base_uri": "https://localhost:8080/"
        },
        "id": "HLjzIxSUvUT9",
        "outputId": "75c42be2-fce8-4ab5-983b-e00e5c79ee97"
      },
      "execution_count": 46,
      "outputs": [
        {
          "name": "stdout",
          "output_type": "stream",
          "text": [
            "#############\n",
            "# 1.덧셈    #\n",
            "# 2.뺄셈    #\n",
            "# 3.나눗셈  #\n",
            "# 4.곱셈    #\n",
            "# 5.종료    #\n",
            "메뉴를 선택 : 1\n",
            "숫자1을 입력 : 4\n",
            "숫자2을 입력 : 3\n",
            "두수의 덧셈 결과:  7.0\n",
            "#############\n",
            "# 1.덧셈    #\n",
            "# 2.뺄셈    #\n",
            "# 3.나눗셈  #\n",
            "# 4.곱셈    #\n",
            "# 5.종료    #\n",
            "메뉴를 선택 : 4\n",
            "숫자1을 입력 : 3\n",
            "숫자2을 입력 : 6\n",
            "두수의 곱하기기 결과:  18.0\n",
            "#############\n",
            "# 1.덧셈    #\n",
            "# 2.뺄셈    #\n",
            "# 3.나눗셈  #\n",
            "# 4.곱셈    #\n",
            "# 5.종료    #\n",
            "메뉴를 선택 : 3\n",
            "숫자1을 입력 : 6\n",
            "숫자2을 입력 : 2\n",
            "두수의 나눗셈 결과:  3.0\n",
            "#############\n",
            "# 1.덧셈    #\n",
            "# 2.뺄셈    #\n",
            "# 3.나눗셈  #\n",
            "# 4.곱셈    #\n",
            "# 5.종료    #\n",
            "메뉴를 선택 : 2\n",
            "숫자1을 입력 : 5\n",
            "숫자2을 입력 : 1\n",
            "두수의 뺼셈 결과:  4.0\n",
            "#############\n",
            "# 1.덧셈    #\n",
            "# 2.뺄셈    #\n",
            "# 3.나눗셈  #\n",
            "# 4.곱셈    #\n",
            "# 5.종료    #\n",
            "메뉴를 선택 : 5\n"
          ]
        }
      ]
    }
  ]
}