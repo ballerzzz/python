{
  "nbformat": 4,
  "nbformat_minor": 0,
  "metadata": {
    "colab": {
      "provenance": [],
      "authorship_tag": "ABX9TyPvpT2Le3xLFDge1sr4AQ7B",
      "include_colab_link": true
    },
    "kernelspec": {
      "name": "python3",
      "display_name": "Python 3"
    },
    "language_info": {
      "name": "python"
    }
  },
  "cells": [
    {
      "cell_type": "markdown",
      "metadata": {
        "id": "view-in-github",
        "colab_type": "text"
      },
      "source": [
        "<a href=\"https://colab.research.google.com/github/ballerzzz/python/blob/main/%EA%B3%BC%EC%A0%9C4.ipynb\" target=\"_parent\"><img src=\"https://colab.research.google.com/assets/colab-badge.svg\" alt=\"Open In Colab\"/></a>"
      ]
    },
    {
      "cell_type": "code",
      "execution_count": 26,
      "metadata": {
        "colab": {
          "base_uri": "https://localhost:8080/"
        },
        "id": "mwK-OaCbGT46",
        "outputId": "13ecd877-0af7-40e0-f98b-fd4c7684d237"
      },
      "outputs": [
        {
          "output_type": "stream",
          "name": "stdout",
          "text": [
            "11600\n"
          ]
        }
      ],
      "source": [
        "gimbapP,banana,packedP,packed,coke,shrimp, coffee = 900, 1800, 3500, 4000, 1500, 2000, 1800\n",
        "\n",
        "price = banana*2 + packed*4 + coke + shrimp*4 + coffee*5 - gimbapP*10 - packedP*5\n",
        "\n",
        "print(price)\n"
      ]
    }
  ]
}